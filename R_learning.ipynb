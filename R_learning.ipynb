{
 "cells": [
  {
   "cell_type": "code",
   "execution_count": null,
   "id": "1a9aa921-ebb9-496a-ab71-aa288252153c",
   "metadata": {},
   "outputs": [],
   "source": [
    "# Calculations in R\n",
    "# Results in \"500\"\n",
    "573 - 74 + 1\n",
    "# Results in \"50\"\n",
    "25 * 2\n",
    "# Results in \"2\"\n",
    "10 / 5"
   ]
  },
  {
   "cell_type": "code",
   "execution_count": null,
   "id": "5ba80d7f-084d-4711-8c66-3d59cdc68ad7",
   "metadata": {},
   "outputs": [],
   "source": [
    "# Data types\n",
    "print('Alberto')\n",
    "print(32)\n",
    "print('32')"
   ]
  },
  {
   "cell_type": "code",
   "execution_count": null,
   "id": "02c281dc-85fd-441a-bf88-58e9e970b090",
   "metadata": {},
   "outputs": [],
   "source": [
    "# Variables\n",
    "name <- 'Alberto'\n",
    "age <- 32"
   ]
  },
  {
   "cell_type": "code",
   "execution_count": null,
   "id": "4c3c2134-e143-4c2a-86d2-122189747340",
   "metadata": {},
   "outputs": [],
   "source": [
    "# Vectors\n",
    "phone <- c(34,627,084400)"
   ]
  },
  {
   "cell_type": "code",
   "execution_count": null,
   "id": "dd63f852-d82d-49cc-8378-ed4cf271b72e",
   "metadata": {},
   "outputs": [],
   "source": [
    "# Conditions\n",
    "message <- \"I change based on a condition.\"\n",
    "if (TRUE) {\n",
    "   message <- 'I execute this when true!'\n",
    "   print(message)\n",
    "} else {\n",
    "   message <- 'I execute this when false!'\n",
    "   print(message)\n",
    "}"
   ]
  },
  {
   "cell_type": "code",
   "execution_count": null,
   "id": "fe601aca-b7d1-47d6-b23f-d3ba532972ef",
   "metadata": {},
   "outputs": [],
   "source": [
    "# Comparison operators\n",
    "56 >= 129\n",
    "56 != 129"
   ]
  },
  {
   "cell_type": "code",
   "execution_count": null,
   "id": "6ee4c98a-faa2-4c87-904c-63b967855985",
   "metadata": {},
   "outputs": [],
   "source": [
    "# Logical operators\n",
    "message <- 'Should I pack an umbrella?'\n",
    "weather <- 'cloudy'\n",
    "high_chance_of_rain <- TRUE\n",
    "if (weather == 'cloudy' & \n",
    "high_chance_of_rain == TRUE) {\n",
    "message = 'Pack umbrella!'\n",
    "} else {\n",
    "  message = 'No need for umbrella!'\n",
    "}\n",
    "print(message)"
   ]
  },
  {
   "cell_type": "code",
   "execution_count": null,
   "id": "67d4dc91-0e98-41f3-832a-42062d23b39b",
   "metadata": {},
   "outputs": [],
   "source": [
    "# Functions\n",
    "data <- c(120,22,22,31,15,120)\n",
    "unique_vals <-unique(data)\n",
    "print(unique_vals)\n",
    "solution <- sqrt(49)\n",
    "print(solution)\n",
    "round_down <- floor(3.14)\n",
    "round_up <- ceiling(3.14)\n",
    "print(round_down)\n",
    "print(round_up)"
   ]
  },
  {
   "cell_type": "code",
   "execution_count": null,
   "id": "4920e390-6607-4196-a4a5-a228927b5b28",
   "metadata": {},
   "outputs": [],
   "source": [
    "# Importing libraries\n",
    "library(dplyr)\n",
    "library(readr)"
   ]
  },
  {
   "cell_type": "code",
   "execution_count": null,
   "id": "c840a2cd-9a3e-420e-a729-e8460c6c566b",
   "metadata": {},
   "outputs": [],
   "source": [
    "# Creating a csv file\n",
    "name,\tcake_flavor,\tfrosting_flavor,\ttopping\n",
    "Red Velvet Cake,\tchocolate,\tcream cheese,\tstrawberries\n",
    "Birthday Cake,\tvanilla,\tvanilla,\trainbow sprinkles\n",
    "Carrot Cake,\tcarrot,\tcream cheese,\talmonds"
   ]
  },
  {
   "cell_type": "code",
   "execution_count": null,
   "id": "95c490a8-4c22-4b8f-89b6-83a58221f0f1",
   "metadata": {},
   "outputs": [],
   "source": [
    "# Loading csv files\n",
    "artists <- read_csv('artists.csv')\n",
    "artists"
   ]
  },
  {
   "cell_type": "code",
   "execution_count": null,
   "id": "b4b35ac4-bccb-47be-89d3-574adbe23ee5",
   "metadata": {},
   "outputs": [],
   "source": [
    "# Inspecting a data frame\n",
    "artists\n",
    "head(artists)\n",
    "summary(artists)"
   ]
  },
  {
   "cell_type": "code",
   "execution_count": null,
   "id": "38082d34-39be-47fa-9b23-0a1dce1908ed",
   "metadata": {},
   "outputs": [],
   "source": [
    "# Pipes in R\n",
    "artists %>%\n",
    "head()"
   ]
  },
  {
   "cell_type": "code",
   "execution_count": null,
   "id": "a8986bd6-23d5-495e-9cd1-0bf3ccf44acd",
   "metadata": {},
   "outputs": [],
   "source": [
    "# Selecting specific columns\n",
    "artist_groups <- artists %>%\n",
    "select(group)\n",
    "artist_groups \n",
    "group_info <- artists %>%\n",
    "select(group, spotify_monthly_listeners, year_founded)\n",
    "group_info"
   ]
  },
  {
   "cell_type": "code",
   "execution_count": null,
   "id": "73c9c9e7-9379-429a-994d-1e413cc0cf6d",
   "metadata": {},
   "outputs": [],
   "source": [
    "# Excluding columns\n",
    "df_cols_removed <- artists %>%\n",
    "select(-genre, -spotify_monthly_listeners, -year_founded)\n",
    "df_cols_removed"
   ]
  },
  {
   "cell_type": "code",
   "execution_count": null,
   "id": "fd6b7e72-4c74-45f7-8d96-451d6bf3b9c1",
   "metadata": {},
   "outputs": [],
   "source": [
    "# Filtering using logical operators\n",
    "rock_groups <- artists %>%\n",
    "filter(genre == 'Rock')\n",
    "rock_groups\n",
    "popular_rock_groups <- artists %>%\n",
    "filter(genre == 'Rock' , spotify_monthly_listeners > 20000000)\n",
    "popular_rock_groups"
   ]
  },
  {
   "cell_type": "code",
   "execution_count": null,
   "id": "76fab01e-c24f-43d9-8646-f41ae877ada9",
   "metadata": {},
   "outputs": [],
   "source": [
    "# Filtering with OR or NOT\n",
    "korea_or_before_2000 <- artists %>%\n",
    "filter(country == 'South Korea' | year_founded < 2000)\n",
    "korea_or_before_2000\n",
    "not_rock_groups <- artists %>%\n",
    "filter(!(genre == 'Rock'))\n",
    "not_rock_groups"
   ]
  },
  {
   "cell_type": "code",
   "execution_count": null,
   "id": "57315973-23e7-4348-99fa-e98eb936a28a",
   "metadata": {},
   "outputs": [],
   "source": [
    "# Arranging rows\n",
    "group_asc <- artists %>%\n",
    "arrange(group)\n",
    "group_asc\n",
    "youtube_desc <- artists %>%\n",
    "arrange(desc(youtube_subscribers))\n",
    "youtube_desc"
   ]
  },
  {
   "cell_type": "code",
   "execution_count": null,
   "id": "c2cbc15e-a0c2-4429-be9f-1d511199ee05",
   "metadata": {},
   "outputs": [],
   "source": [
    "# Review\n",
    "artists <- artists %>%\n",
    "select(-country, -year_founded, -albums) %>%\n",
    "filter(spotify_monthly_listeners > 20000000, genre != 'Hip Hop') %>%\n",
    "arrange(desc(youtube_subscribers))\n",
    "head(artists)"
   ]
  },
  {
   "cell_type": "code",
   "execution_count": null,
   "id": "9d0f2995-c20b-4b3e-9abd-da3bec6d1f92",
   "metadata": {},
   "outputs": [],
   "source": [
    "# Add new columns\n",
    "dogs <- dogs %>%\n",
    "mutate(avg_height = (height_low_inches + height_high_inches) / 2)\n",
    "head(dogs)"
   ]
  },
  {
   "cell_type": "code",
   "execution_count": null,
   "id": "2069232b-2ca9-47fe-bb83-3f53742cba7e",
   "metadata": {},
   "outputs": [],
   "source": [
    "# Adding multiple columns\n",
    "dogs <- dogs %>%\n",
    "  mutate(avg_height = (height_low_inches + height_high_inches)/2, avg_weight = (weight_low_lbs + weight_high_lbs)/2, rank_change_13_to_16 = (rank_2016 - rank_2013))\n",
    "head(dogs)"
   ]
  },
  {
   "cell_type": "code",
   "execution_count": null,
   "id": "9e6041d1-baf8-4567-aad4-d49f2060e4ff",
   "metadata": {},
   "outputs": [],
   "source": [
    "# Adding columns while droping the non selected ones\n",
    "dogs <- dogs %>%\n",
    "  transmute(breed = breed, avg_height = (height_low_inches + height_high_inches)/2,\n",
    "         avg_weight = (weight_low_lbs + weight_high_lbs)/2,\n",
    "        rank_change_13_to_16 = rank_2016 - rank_2013)"
   ]
  },
  {
   "cell_type": "code",
   "execution_count": null,
   "id": "cd9a9f58-b006-42b7-86e2-e2be008d1a4e",
   "metadata": {},
   "outputs": [],
   "source": [
    "# add columns and remove existing columns\n",
    "dogs <- dogs %>%\n",
    "  transmute(breed = breed,\n",
    "            avg_height = (height_low_inches + height_high_inches)/2,\n",
    "         avg_weight = (weight_low_lbs + weight_high_lbs)/2,\n",
    "        rank_change_13_to_16 = rank_2016 - rank_2013)\n",
    "```\n",
    "```{r}\n",
    "# check column names\n",
    "original_col_names <- colnames(dogs)\n",
    "original_col_names\n",
    "```\n",
    "```{r}\n",
    "# rename data frame columns\n",
    "dogs <- dogs %>%\n",
    "rename(avg_height_inches = avg_height,\n",
    "avg_weight_lbs = avg_weight, \n",
    "popularity_change_13_to_16 = rank_change_13_to_16)"
   ]
  },
  {
   "cell_type": "code",
   "execution_count": null,
   "id": "1be64cb0-16be-44be-87a2-94b294d29387",
   "metadata": {},
   "outputs": [],
   "source": [
    "# Review\n",
    "dogs <- dogs %>%\n",
    "transmute(breed = breed, height_average_feet = ((height_low_inches +\n",
    "height_high_inches)/2)/12, popularity_change_15_to_16 = (rank_2016 - rank_2015)) %>%\n",
    "arrange(desc(popularity_change_15_to_16))\n",
    "head(dogs)"
   ]
  },
  {
   "cell_type": "code",
   "execution_count": null,
   "id": "61ae109d-fd53-4f21-86b8-b6779700fcbb",
   "metadata": {},
   "outputs": [],
   "source": [
    "# list files\n",
    "student_files <- list.files(pattern = 'exams_.*csv')\n",
    "print(student_files)\n",
    "```\n",
    "\n",
    "```{r message=FALSE}\n",
    "# read files\n",
    "df_list <- lapply(student_files,read_csv)\n",
    "```\n",
    "\n",
    "```{r}\n",
    "# concatenate data frames\n",
    "students <- bind_rows(df_list)\n",
    "\n",
    "```\n",
    "\n",
    "```{r}\n",
    "# number of rows in students\n",
    "nrow_students <- nrow(students)"
   ]
  },
  {
   "cell_type": "code",
   "execution_count": null,
   "id": "2d0a5d2c-d987-4650-8fe1-449db5213331",
   "metadata": {},
   "outputs": [],
   "source": [
    "# gather columns\n",
    "students <- students %>%\n",
    "gather('fractions', 'probability', key = 'exam', value = 'score')\n",
    "head(students)\n",
    "\n",
    "```\n",
    "\n",
    "```{r}\n",
    "# updated column names\n",
    "gathered_col_names <- colnames(students)\n",
    "print(gathered_col_names)\n",
    "\n",
    "```\n",
    "\n",
    "```{r}\n",
    "# unique value counts of exam\n",
    "exam_counts <- students %>%\n",
    "count(exam)\n",
    "print(exam_counts)"
   ]
  },
  {
   "cell_type": "code",
   "execution_count": null,
   "id": "992e862d-0672-44af-90a8-49a29ee35d8d",
   "metadata": {},
   "outputs": [],
   "source": [
    "# drop id column\n",
    "students <- students %>%\n",
    "select(-id)\n",
    "head(students)\n",
    "\n",
    "```\n",
    "\n",
    "```{r}\n",
    "# find and count duplicated rows\n",
    "duplicates <- students %>%\n",
    "duplicated() %>%\n",
    "table()\n",
    "print(duplicates)\n",
    "\n",
    "```\n",
    "\n",
    "```{r}\n",
    "# remove duplicated rows, keep only unique rows\n",
    "students <- students %>%\n",
    "distinct()\n",
    "\n",
    "```\n",
    "\n",
    "```{r}\n",
    "# find and count duplicated rows in updated data frame\n",
    "updated_duplicates <- students %>%\n",
    "duplicated() %>%\n",
    "table()\n",
    "print(updated_duplicates)"
   ]
  },
  {
   "cell_type": "code",
   "execution_count": null,
   "id": "69e7ade8-d1cd-46f1-8914-d11076342cac",
   "metadata": {},
   "outputs": [],
   "source": [
    "# print columns of students\n",
    "print(colnames(students))\n",
    "```\n",
    "\n",
    "```{r}\n",
    "# view head of students\n",
    "head(students)\n",
    "```\n",
    "\n",
    "```{r}\n",
    "# add gender and age columns\n",
    "students <- students %>%\n",
    "mutate(gender = str_sub(gender_age,1,1),\n",
    "age = str_sub(gender_age,2))\n",
    "head(students)\n",
    "\n",
    "```\n",
    "\n",
    "```{r}\n",
    "# drop gender_age column\n",
    "students <- students %>%\n",
    "select(-gender_age)\n",
    "head(students)\n",
    "\n",
    "```"
   ]
  },
  {
   "cell_type": "code",
   "execution_count": null,
   "id": "cad2bdf5-9366-4406-b8d6-71efd50d9fed",
   "metadata": {},
   "outputs": [],
   "source": [
    "# separate the full_name column\n",
    "students <- students %>%\n",
    "separate(full_name,c('first_name', 'last_name'),' ', extra = 'merge')\n",
    "head(students)"
   ]
  },
  {
   "cell_type": "code",
   "execution_count": null,
   "id": "9169fde3-20ec-4bfc-92cb-33070c445557",
   "metadata": {},
   "outputs": [],
   "source": [
    "# print structure of students\n",
    "print(str(students))\n",
    "```\n",
    "\n",
    "```{r}\n",
    "# mean of age column\n",
    "students %>% \n",
    "  summarise(mean_score = mean(score))"
   ]
  },
  {
   "cell_type": "code",
   "execution_count": null,
   "id": "1559861f-b620-4713-afd7-d91d754cf781",
   "metadata": {},
   "outputs": [],
   "source": [
    "# remove % from score column\n",
    "students <- students %>%\n",
    "mutate(score = gsub('\\\\%','',score))\n",
    "students\n",
    "\n",
    "```\n",
    "\n",
    "```{r}\n",
    "# change score column to numeric\n",
    "students <- students %>%\n",
    "mutate(score = as.numeric(score))\n",
    "students"
   ]
  },
  {
   "cell_type": "code",
   "execution_count": null,
   "id": "3d6609cb-6520-46e9-9951-d9be0be9f2f7",
   "metadata": {},
   "outputs": [],
   "source": [
    "# update age column\n",
    "students <- students %>%\n",
    "mutate(age = as.numeric(age))\n"
   ]
  },
  {
   "cell_type": "code",
   "execution_count": null,
   "id": "da5bce52-36d8-4948-839d-f2787af98879",
   "metadata": {},
   "outputs": [],
   "source": [
    "#Define variable and print it\n",
    "viz <- ggplot(data=movies)\n",
    "viz"
   ]
  },
  {
   "cell_type": "code",
   "execution_count": null,
   "id": "4de2e7fe-3dfc-4dcd-988c-4def75864d87",
   "metadata": {},
   "outputs": [],
   "source": [
    "#Create aesthetic mappings at the canvas level\n",
    "viz <- ggplot(data=movies, aes(x=imdbRating,y=nrOfWins))\n",
    "viz"
   ]
  },
  {
   "cell_type": "code",
   "execution_count": null,
   "id": "0f90b929-bdbb-446a-943e-1a94b5690349",
   "metadata": {},
   "outputs": [],
   "source": [
    "# Add a geom point layer\n",
    "viz <- ggplot(data=movies, aes(x=imdbRating, y=nrOfWins)) + geom_point()\n",
    "\n",
    "# Prints the plot\n",
    "viz\n",
    "```"
   ]
  },
  {
   "cell_type": "code",
   "execution_count": null,
   "id": "5b39cee6-1fb2-4db9-a66a-1e7d6a5075d3",
   "metadata": {},
   "outputs": [],
   "source": [
    "# Add manual alpha aesthetic mapping\n",
    "viz <- ggplot(data=movies, aes(x=imdbRating, y=nrOfWins)) + geom_point(aes(color=nrOfGenre)) \n",
    "\n",
    "# Prints the plot\n",
    "viz"
   ]
  },
  {
   "cell_type": "code",
   "execution_count": null,
   "id": "cc07ed61-c626-4d60-93a0-59d620da5f90",
   "metadata": {},
   "outputs": [],
   "source": [
    "# Add manual alpha aesthetic mapping\n",
    "viz <- ggplot(data=movies, aes(x=imdbRating, y=nrOfWins)) +\n",
    "       geom_point(aes(color=nrOfGenre), alpha=0.5) \n",
    "\n",
    "# Prints the plot\n",
    "viz"
   ]
  },
  {
   "cell_type": "code",
   "execution_count": null,
   "id": "ea70a1db-ea71-4aaa-9d4b-62f6ad4975a6",
   "metadata": {},
   "outputs": [],
   "source": [
    "# Add labels as specified\n",
    "viz <- ggplot(data=movies, aes(x=imdbRating, y=nrOfWins)) +\n",
    "       geom_point(aes(color=nrOfGenre), alpha=0.5) +\n",
    "       labs(title=\"Movie Ratings Vs Award Wins\", \n",
    "       subtitle=\"From IMDB dataset\", x=\"Movie Rating\",y= \"Number of Award Wins\", color = \"Number of Genre\")\n",
    "\n",
    "# Prints the plot\n",
    "viz"
   ]
  },
  {
   "cell_type": "code",
   "execution_count": null,
   "id": "97456e76-86af-40aa-b150-3096782d6025",
   "metadata": {},
   "outputs": [],
   "source": [
    "#Create a bar chart\n",
    "bar <- ggplot(data=mpg, aes(x =class)) + geom_bar(aes(fill=class)) + labs(title=\"Types of Vehicles\", subtitle=\"From fuel economy data for popular car models (1999-2008)\")\n",
    "bar"
   ]
  },
  {
   "cell_type": "code",
   "execution_count": null,
   "id": "352e2e35-92b9-471a-a258-4afd5fd765c2",
   "metadata": {},
   "outputs": [],
   "source": [
    "# load order data\n",
    "orders <- read_csv(\"orders.csv\")\n",
    "\n",
    "# inspect orders here:\n",
    "head(orders,10)\n",
    "```\n",
    "\n",
    "```{r}\n",
    "# define most_expensive here:\n",
    "most_expensive <- orders %>%\n",
    "summarize(max(price,na.rm=TRUE))\n",
    "most_expensive\n"
   ]
  },
  {
   "cell_type": "code",
   "execution_count": null,
   "id": "483f6b98-3d43-405f-8621-9ddd1f8b64f5",
   "metadata": {},
   "outputs": [],
   "source": [
    "# define pricey_shoes here:\n",
    "pricey_shoes <- orders %>%\n",
    "group_by(shoe_type) %>%\n",
    "summarize(max_price=max(price, na.rm=TRUE))\n",
    "pricey_shoes\n"
   ]
  },
  {
   "cell_type": "code",
   "execution_count": null,
   "id": "a06f861c-9c4a-4f99-8e7b-666173d2d686",
   "metadata": {},
   "outputs": [],
   "source": [
    "# define shoe_counts here:\n",
    "shoe_counts <- orders %>%\n",
    "  group_by(shoe_type, shoe_color) %>%\n",
    "  summarize(count = n())\n",
    "shoe_counts\n",
    "```\n",
    "\n",
    "```{r}\n",
    "# define shoe_prices here:\n",
    "shoe_prices <- orders %>%\n",
    "  group_by(shoe_type, shoe_material) %>%\n",
    "  summarize(mean_price = mean(price, na.rm = TRUE))\n",
    "shoe_prices"
   ]
  },
  {
   "cell_type": "code",
   "execution_count": null,
   "id": "5627f362-aac7-4c0f-bc6a-79687f9de728",
   "metadata": {},
   "outputs": [],
   "source": [
    "# define most_pop_orders here:\n",
    "most_pop_orders <- orders %>%\n",
    "group_by(shoe_type) %>%\n",
    "filter(n() > 16)\n",
    "most_pop_orders"
   ]
  },
  {
   "cell_type": "code",
   "execution_count": null,
   "id": "8a7d136b-0648-40ca-8e97-97f031bf8cc7",
   "metadata": {},
   "outputs": [],
   "source": [
    "# define diff_from_mean here:\n",
    "diff_from_mean <- orders %>%\n",
    "group_by(shoe_type) %>%\n",
    "mutate(diff_from_shoe_type_mean = price - mean(\n",
    "  price, na.rm = TRUE))\n",
    "  diff_from_mean"
   ]
  },
  {
   "cell_type": "code",
   "execution_count": null,
   "id": "2dfe2558-4b04-4f78-a1ee-5da6640b91a2",
   "metadata": {},
   "outputs": [],
   "source": [
    "# define average_price here:\n",
    "average_price <- orders %>%\n",
    "summarize(mean_price = mean(price, na.rm = TRUE))\n",
    "average_price\n",
    "\n",
    "```\n",
    "\n",
    "```{r}\n",
    "# define click_source here:\n",
    "click_source <- page_visits %>%\n",
    "group_by(utm_source) %>%\n",
    "summarize(count=n())\n",
    "click_source\n",
    "\n",
    "```\n",
    "\n",
    "```{r}\n",
    "# define click_source_by_month here:\n",
    "click_source_by_month <- page_visits %>%\n",
    "group_by(utm_source,month) %>%\n",
    "summarize(count=n())\n",
    "click_source_by_month\n",
    "\n",
    "```"
   ]
  },
  {
   "cell_type": "code",
   "execution_count": null,
   "id": "38d4460e-ae0e-4d7a-b576-b04efe59dbfc",
   "metadata": {},
   "outputs": [],
   "source": []
  }
 ],
 "metadata": {
  "kernelspec": {
   "display_name": "Python 3 (ipykernel)",
   "language": "python",
   "name": "python3"
  },
  "language_info": {
   "codemirror_mode": {
    "name": "ipython",
    "version": 3
   },
   "file_extension": ".py",
   "mimetype": "text/x-python",
   "name": "python",
   "nbconvert_exporter": "python",
   "pygments_lexer": "ipython3",
   "version": "3.9.12"
  }
 },
 "nbformat": 4,
 "nbformat_minor": 5
}
