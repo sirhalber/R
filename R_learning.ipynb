{
 "cells": [
  {
   "cell_type": "code",
   "execution_count": null,
   "id": "1a9aa921-ebb9-496a-ab71-aa288252153c",
   "metadata": {},
   "outputs": [],
   "source": [
    "# Calculations in R\n",
    "# Results in \"500\"\n",
    "573 - 74 + 1\n",
    "# Results in \"50\"\n",
    "25 * 2\n",
    "# Results in \"2\"\n",
    "10 / 5"
   ]
  },
  {
   "cell_type": "code",
   "execution_count": null,
   "id": "5ba80d7f-084d-4711-8c66-3d59cdc68ad7",
   "metadata": {},
   "outputs": [],
   "source": [
    "# Data types\n",
    "print('Alberto')\n",
    "print(32)\n",
    "print('32')"
   ]
  },
  {
   "cell_type": "code",
   "execution_count": null,
   "id": "02c281dc-85fd-441a-bf88-58e9e970b090",
   "metadata": {},
   "outputs": [],
   "source": [
    "# Variables\n",
    "name <- 'Alberto'\n",
    "age <- 32"
   ]
  },
  {
   "cell_type": "code",
   "execution_count": null,
   "id": "4c3c2134-e143-4c2a-86d2-122189747340",
   "metadata": {},
   "outputs": [],
   "source": [
    "# Vectors\n",
    "phone <- c(34,627,084400)"
   ]
  },
  {
   "cell_type": "code",
   "execution_count": null,
   "id": "dd63f852-d82d-49cc-8378-ed4cf271b72e",
   "metadata": {},
   "outputs": [],
   "source": [
    "# Conditions\n",
    "message <- \"I change based on a condition.\"\n",
    "if (TRUE) {\n",
    "   message <- 'I execute this when true!'\n",
    "   print(message)\n",
    "} else {\n",
    "   message <- 'I execute this when false!'\n",
    "   print(message)\n",
    "}"
   ]
  },
  {
   "cell_type": "code",
   "execution_count": null,
   "id": "fe601aca-b7d1-47d6-b23f-d3ba532972ef",
   "metadata": {},
   "outputs": [],
   "source": [
    "# Comparison operators\n",
    "56 >= 129\n",
    "56 != 129"
   ]
  },
  {
   "cell_type": "code",
   "execution_count": null,
   "id": "6ee4c98a-faa2-4c87-904c-63b967855985",
   "metadata": {},
   "outputs": [],
   "source": [
    "# Logical operators\n",
    "message <- 'Should I pack an umbrella?'\n",
    "weather <- 'cloudy'\n",
    "high_chance_of_rain <- TRUE\n",
    "if (weather == 'cloudy' & \n",
    "high_chance_of_rain == TRUE) {\n",
    "message = 'Pack umbrella!'\n",
    "} else {\n",
    "  message = 'No need for umbrella!'\n",
    "}\n",
    "print(message)"
   ]
  },
  {
   "cell_type": "code",
   "execution_count": null,
   "id": "67d4dc91-0e98-41f3-832a-42062d23b39b",
   "metadata": {},
   "outputs": [],
   "source": [
    "# Functions\n",
    "data <- c(120,22,22,31,15,120)\n",
    "unique_vals <-unique(data)\n",
    "print(unique_vals)\n",
    "solution <- sqrt(49)\n",
    "print(solution)\n",
    "round_down <- floor(3.14)\n",
    "round_up <- ceiling(3.14)\n",
    "print(round_down)\n",
    "print(round_up)"
   ]
  },
  {
   "cell_type": "code",
   "execution_count": null,
   "id": "4920e390-6607-4196-a4a5-a228927b5b28",
   "metadata": {},
   "outputs": [],
   "source": [
    "# Importing libraries\n",
    "library(dplyr)\n",
    "library(readr)"
   ]
  },
  {
   "cell_type": "code",
   "execution_count": null,
   "id": "c840a2cd-9a3e-420e-a729-e8460c6c566b",
   "metadata": {},
   "outputs": [],
   "source": [
    "# Creating a csv file\n",
    "name,\tcake_flavor,\tfrosting_flavor,\ttopping\n",
    "Red Velvet Cake,\tchocolate,\tcream cheese,\tstrawberries\n",
    "Birthday Cake,\tvanilla,\tvanilla,\trainbow sprinkles\n",
    "Carrot Cake,\tcarrot,\tcream cheese,\talmonds"
   ]
  },
  {
   "cell_type": "code",
   "execution_count": null,
   "id": "95c490a8-4c22-4b8f-89b6-83a58221f0f1",
   "metadata": {},
   "outputs": [],
   "source": [
    "# Loading csv files\n",
    "artists <- read_csv('artists.csv')\n",
    "artists"
   ]
  },
  {
   "cell_type": "code",
   "execution_count": null,
   "id": "b4b35ac4-bccb-47be-89d3-574adbe23ee5",
   "metadata": {},
   "outputs": [],
   "source": [
    "# Inspecting a data frame\n",
    "artists\n",
    "head(artists)\n",
    "summary(artists)"
   ]
  },
  {
   "cell_type": "code",
   "execution_count": null,
   "id": "38082d34-39be-47fa-9b23-0a1dce1908ed",
   "metadata": {},
   "outputs": [],
   "source": [
    "# Pipes in R\n",
    "artists %>%\n",
    "head()"
   ]
  },
  {
   "cell_type": "code",
   "execution_count": null,
   "id": "a8986bd6-23d5-495e-9cd1-0bf3ccf44acd",
   "metadata": {},
   "outputs": [],
   "source": [
    "# Selecting specific columns\n",
    "artist_groups <- artists %>%\n",
    "select(group)\n",
    "artist_groups \n",
    "group_info <- artists %>%\n",
    "select(group, spotify_monthly_listeners, year_founded)\n",
    "group_info"
   ]
  },
  {
   "cell_type": "code",
   "execution_count": null,
   "id": "73c9c9e7-9379-429a-994d-1e413cc0cf6d",
   "metadata": {},
   "outputs": [],
   "source": [
    "# Excluding columns\n",
    "df_cols_removed <- artists %>%\n",
    "select(-genre, -spotify_monthly_listeners, -year_founded)\n",
    "df_cols_removed"
   ]
  },
  {
   "cell_type": "code",
   "execution_count": null,
   "id": "fd6b7e72-4c74-45f7-8d96-451d6bf3b9c1",
   "metadata": {},
   "outputs": [],
   "source": [
    "# Filtering using logical operators\n",
    "rock_groups <- artists %>%\n",
    "filter(genre == 'Rock')\n",
    "rock_groups\n",
    "popular_rock_groups <- artists %>%\n",
    "filter(genre == 'Rock' , spotify_monthly_listeners > 20000000)\n",
    "popular_rock_groups"
   ]
  },
  {
   "cell_type": "code",
   "execution_count": null,
   "id": "76fab01e-c24f-43d9-8646-f41ae877ada9",
   "metadata": {},
   "outputs": [],
   "source": [
    "# Filtering with OR or NOT\n",
    "korea_or_before_2000 <- artists %>%\n",
    "filter(country == 'South Korea' | year_founded < 2000)\n",
    "korea_or_before_2000\n",
    "not_rock_groups <- artists %>%\n",
    "filter(!(genre == 'Rock'))\n",
    "not_rock_groups"
   ]
  },
  {
   "cell_type": "code",
   "execution_count": null,
   "id": "57315973-23e7-4348-99fa-e98eb936a28a",
   "metadata": {},
   "outputs": [],
   "source": [
    "# Arranging rows\n",
    "group_asc <- artists %>%\n",
    "arrange(group)\n",
    "group_asc\n",
    "youtube_desc <- artists %>%\n",
    "arrange(desc(youtube_subscribers))\n",
    "youtube_desc"
   ]
  },
  {
   "cell_type": "code",
   "execution_count": null,
   "id": "c2cbc15e-a0c2-4429-be9f-1d511199ee05",
   "metadata": {},
   "outputs": [],
   "source": [
    "# Review\n",
    "artists <- artists %>%\n",
    "select(-country, -year_founded, -albums) %>%\n",
    "filter(spotify_monthly_listeners > 20000000, genre != 'Hip Hop') %>%\n",
    "arrange(desc(youtube_subscribers))\n",
    "head(artists)"
   ]
  },
  {
   "cell_type": "code",
   "execution_count": null,
   "id": "9d0f2995-c20b-4b3e-9abd-da3bec6d1f92",
   "metadata": {},
   "outputs": [],
   "source": [
    "# Add new columns\n",
    "dogs <- dogs %>%\n",
    "mutate(avg_height = (height_low_inches + height_high_inches) / 2)\n",
    "head(dogs)"
   ]
  },
  {
   "cell_type": "code",
   "execution_count": null,
   "id": "2069232b-2ca9-47fe-bb83-3f53742cba7e",
   "metadata": {},
   "outputs": [],
   "source": [
    "# Adding multiple columns\n",
    "dogs <- dogs %>%\n",
    "  mutate(avg_height = (height_low_inches + height_high_inches)/2, avg_weight = (weight_low_lbs + weight_high_lbs)/2, rank_change_13_to_16 = (rank_2016 - rank_2013))\n",
    "head(dogs)"
   ]
  },
  {
   "cell_type": "code",
   "execution_count": null,
   "id": "9e6041d1-baf8-4567-aad4-d49f2060e4ff",
   "metadata": {},
   "outputs": [],
   "source": [
    "# Adding columns while droping the non selected ones\n",
    "dogs <- dogs %>%\n",
    "  transmute(breed = breed, avg_height = (height_low_inches + height_high_inches)/2,\n",
    "         avg_weight = (weight_low_lbs + weight_high_lbs)/2,\n",
    "        rank_change_13_to_16 = rank_2016 - rank_2013)"
   ]
  },
  {
   "cell_type": "code",
   "execution_count": null,
   "id": "cd9a9f58-b006-42b7-86e2-e2be008d1a4e",
   "metadata": {},
   "outputs": [],
   "source": []
  }
 ],
 "metadata": {
  "kernelspec": {
   "display_name": "Python 3 (ipykernel)",
   "language": "python",
   "name": "python3"
  },
  "language_info": {
   "codemirror_mode": {
    "name": "ipython",
    "version": 3
   },
   "file_extension": ".py",
   "mimetype": "text/x-python",
   "name": "python",
   "nbconvert_exporter": "python",
   "pygments_lexer": "ipython3",
   "version": "3.9.12"
  }
 },
 "nbformat": 4,
 "nbformat_minor": 5
}
