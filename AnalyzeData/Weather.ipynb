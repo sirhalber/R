{
 "cells": [
  {
   "cell_type": "code",
   "execution_count": null,
   "id": "063330ce-18b0-407f-af5a-f1b0379c3947",
   "metadata": {},
   "outputs": [],
   "source": [
    "# Change these variables to be the standard deviation of each dataset.\n",
    "# Inspect Data\n",
    "head(london_data)\n",
    "nrow(london_data)\n",
    "temp <- london_data$TemperatureC\n",
    "avg_temp <- mean(temp)\n",
    "\n",
    "# Variance and SD for the year\n",
    "temperature_var <- var(temp)\n",
    "temperature_var\n",
    "temperature_standard_deviation <- sd(temp)\n",
    "temperature_standard_deviation\n",
    "\n",
    "#Inspect once again\n",
    "head(london_data)\n",
    "\n",
    "# Get monthly temperature average\n",
    "june <- london_data %>%\n",
    "  filter(month == \"06\")\n",
    "\n",
    "july <- london_data %>%\n",
    "  filter(month == \"07\")\n",
    "\n",
    "june_mean <- mean(june$TemperatureC)\n",
    "july_mean <- mean(july$TemperatureC)\n",
    "june_mean\n",
    "july_mean\n",
    "\n",
    "june_sd <- sd(june$TemperatureC)\n",
    "july_sd <- sd(july$TemperatureC)\n",
    "june_sd\n",
    "july_sd\n",
    "\n",
    "# Analyze by month\n",
    "monthly_stats <- london_data %>%\n",
    "    group_by(month) %>%\n",
    "    summarize(mean = mean(TemperatureC),\n",
    "              standard_deviation = sd(TemperatureC))\n",
    "monthly_stats"
   ]
  }
 ],
 "metadata": {
  "kernelspec": {
   "display_name": "Python 3 (ipykernel)",
   "language": "python",
   "name": "python3"
  },
  "language_info": {
   "codemirror_mode": {
    "name": "ipython",
    "version": 3
   },
   "file_extension": ".py",
   "mimetype": "text/x-python",
   "name": "python",
   "nbconvert_exporter": "python",
   "pygments_lexer": "ipython3",
   "version": "3.9.12"
  }
 },
 "nbformat": 4,
 "nbformat_minor": 5
}
