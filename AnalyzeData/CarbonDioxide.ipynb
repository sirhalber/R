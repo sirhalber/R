{
 "cells": [
  {
   "cell_type": "code",
   "execution_count": null,
   "id": "6df869da-28b1-4880-ad0c-c5c2aec41081",
   "metadata": {},
   "outputs": [],
   "source": [
    "# load libraries and data\n",
    "library(readr)\n",
    "library(dplyr)\n",
    "library(ggplot2)\n",
    "```\n",
    "\n",
    "```{r error=TRUE}\n",
    "options(scipen=10000) #removes scientific notation\n",
    "#Create NOAA Visualization here:\n",
    "noaa_data <- read_csv(\"carbon_dioxide_levels.csv\")\n",
    "head(noaa_data)\n",
    "noaa_viz <- ggplot(data=noaa_data, aes(x=Age_yrBP, y=CO2_ppmv)) + geom_line() \n",
    "+ labs(title=\"Carbon Dioxide Levels From 8000 to 136 Years BP\", \n",
    "       subtitle=\"From World Data Center for Paleoclimatology and NOAA Paleoclimatology Program\", \n",
    "       x=\"Years Before Today (0=1950)\", y=\"Carbon Dioxide Level (Parts Per Million)\") + scale_x_reverse(lim=c(800000,0))\n",
    "noaa_viz\n",
    "\n",
    "```\n",
    "\n",
    "```{r message=FALSE, error=TRUE}\n",
    "#Create IAC Visualization\n",
    "iac_data <- read_csv(\"yearly_co2.csv\")\n",
    "millenia_max <- max(noaa_data$CO2_ppmv)\n",
    "millenia_max\n",
    "iac_viz <- ggplot(data=iac_data, aes(x=year, y=data_mean_global)) + geom_line() \n",
    "+ labs(title=\"Carbon Dioxide Levels over Time\", \n",
    "       subtitle=\"From Institute for Atmospheric and Climate Science (IAC)\", \n",
    "       x=\"Year\", y=\"Carbon Dioxide Level (Parts Per Million)\") \n",
    "+ geom_hline(aes(yintercept=millenia_max, linetype = \"Historical CO2 Peak before 1950\"))\n",
    "iac_viz"
   ]
  }
 ],
 "metadata": {
  "kernelspec": {
   "display_name": "Python 3 (ipykernel)",
   "language": "python",
   "name": "python3"
  },
  "language_info": {
   "codemirror_mode": {
    "name": "ipython",
    "version": 3
   },
   "file_extension": ".py",
   "mimetype": "text/x-python",
   "name": "python",
   "nbconvert_exporter": "python",
   "pygments_lexer": "ipython3",
   "version": "3.9.12"
  }
 },
 "nbformat": 4,
 "nbformat_minor": 5
}
