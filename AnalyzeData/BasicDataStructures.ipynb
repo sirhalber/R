{
 "cells": [
  {
   "cell_type": "code",
   "execution_count": null,
   "id": "dc0820e9-c77b-4a18-85b2-9ea2076f55c3",
   "metadata": {},
   "outputs": [],
   "source": [
    "# create vector called years:\n",
    "years <- c(2017,2018,2019,2020,2021,2022)\n",
    "print(years)\n",
    "```\n",
    "\n",
    "```{r}\n",
    "# create vector called years2:\n",
    "years2 <- c(2017:2022)\n",
    "print(years2)"
   ]
  },
  {
   "cell_type": "code",
   "execution_count": null,
   "id": "fc702590-5ad1-45fb-8372-186e51ffed4a",
   "metadata": {},
   "outputs": [],
   "source": [
    "# create variable top_six_movie:\n",
    "top_six_movie <- top_movies_2019[6]\n",
    "print(top_six_movie)\n",
    "\n",
    "# create vector called top_three_movies\n",
    "top_three_movies <- top_movies_2019[c(1:3)]\n",
    "print(top_three_movies)"
   ]
  },
  {
   "cell_type": "code",
   "execution_count": null,
   "id": "1da95600-1252-486d-a8d6-d4f652f588ab",
   "metadata": {},
   "outputs": [],
   "source": [
    "vegetables <- c(\"celery\", \"squash\", \"spinch\", \"kale\", \"radish\", \"carrot\", \"onion\")\n",
    "```\n",
    "```{r}\n",
    "# correct to spinach here:\n",
    "vegetables[3] <- \"spinach\"\n",
    "print(vegetables)\n",
    "```\n",
    "\n",
    "```{r}\n",
    "scores <- c(44, 65, 77, 49, 56, 75, 59, 90, 72)\n",
    "\n",
    "```\n",
    "\n",
    "```{r}\n",
    "#modify scores below:\n",
    "scores[scores < 60] <- 60\n",
    "print(scores)"
   ]
  },
  {
   "cell_type": "code",
   "execution_count": null,
   "id": "055d345c-cc10-40a8-b265-6868e1c62fe3",
   "metadata": {},
   "outputs": [],
   "source": [
    "# create one_hundred_greetings matrix below:\n",
    "one_hundred_greetings <- matrix(c(\"hi\"), nrow = 10, ncol = 10)\n",
    "\n",
    "```\n",
    "\n",
    "```{r}\n",
    "# create different_neighbors matrix below:\n",
    "different_neighbors <- matrix(c(1:0), nrow = 3, ncol = 5)\n",
    "print(different_neighbors)"
   ]
  },
  {
   "cell_type": "code",
   "execution_count": null,
   "id": "d3cef4db-da90-48bd-93ba-3c1970b50556",
   "metadata": {},
   "outputs": [],
   "source": [
    "# get the element in second row, 4th column\n",
    "middle_element <- twenty_eight_matrix[2,4]\n",
    "print(middle_element)\n",
    "\n",
    "sixth_column <- twenty_eight_matrix[ ,6]\n",
    "print(sixth_column)\n",
    "```"
   ]
  },
  {
   "cell_type": "code",
   "execution_count": null,
   "id": "ddf61b9c-01c6-4004-974d-ab0ce3529230",
   "metadata": {},
   "outputs": [],
   "source": [
    "# create list fruit_basket below:\n",
    "fruit_basket <- list(\"watermelon\", 4, c(\"alex\", \"yubi\"))\n",
    "fruit_basket[2] <- 10\n",
    "# print the list\n",
    "print(fruit_basket)\n",
    "```"
   ]
  },
  {
   "cell_type": "code",
   "execution_count": null,
   "id": "ca8fb02e-8060-4494-ad82-f7c7b4deb12c",
   "metadata": {},
   "outputs": [],
   "source": [
    "# create variable nick_scores\n",
    "print(test_scores)\n",
    "\n",
    "nick_scores <- test_scores$Nick\n",
    "print(nick_scores)\n",
    "# create variable nick_exam2\n",
    "nick_exam2 <- nick_scores$exam2\n",
    "print(nick_exam2)\n",
    "```"
   ]
  },
  {
   "cell_type": "code",
   "execution_count": null,
   "id": "e950ed9d-db7f-4edd-b803-a1e412276466",
   "metadata": {},
   "outputs": [],
   "source": [
    "# load data frame\n",
    "plant_data <- read.csv('plant_traits.csv')\n",
    "```\n",
    "```{r}\n",
    "# select the height column here\n",
    "plant_heights <- plant_data$height\n",
    "print(plant_heights)"
   ]
  },
  {
   "cell_type": "code",
   "execution_count": null,
   "id": "480c1009-8d57-47ab-ad9d-dc0b5af2194b",
   "metadata": {},
   "outputs": [],
   "source": []
  }
 ],
 "metadata": {
  "kernelspec": {
   "display_name": "Python 3 (ipykernel)",
   "language": "python",
   "name": "python3"
  },
  "language_info": {
   "codemirror_mode": {
    "name": "ipython",
    "version": 3
   },
   "file_extension": ".py",
   "mimetype": "text/x-python",
   "name": "python",
   "nbconvert_exporter": "python",
   "pygments_lexer": "ipython3",
   "version": "3.9.12"
  }
 },
 "nbformat": 4,
 "nbformat_minor": 5
}
