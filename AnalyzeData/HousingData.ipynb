{
 "cells": [
  {
   "cell_type": "code",
   "execution_count": null,
   "id": "bbada947-adde-4b04-8383-94492bcad3ed",
   "metadata": {},
   "outputs": [],
   "source": [
    "# Load libraries\n",
    "library(readr)\n",
    "library(dplyr)\n",
    "library(DescTools)\n",
    "```\n",
    "```{r message=FALSE, warning=FALSE, error=TRUE}\n",
    "# Read in housing data\n",
    "brooklyn_one_bed <- read_csv('brooklyn-one-bed.csv')\n",
    "brooklyn_price <- brooklyn_one_bed$rent\n",
    "\n",
    "manhattan_one_bed <- read_csv('manhattan-one-bed.csv')\n",
    "manhattan_price <- manhattan_one_bed$rent\n",
    "\n",
    "queens_one_bed <- read_csv('queens-one-bed.csv')\n",
    "queens_price <- queens_one_bed$rent\n",
    "\n",
    "```\n",
    "\n",
    "```{r error=TRUE}\n",
    "#Calculate Mean\n",
    "brooklyn_mean <- mean(brooklyn_price)\n",
    "brooklyn_mean\n",
    "\n",
    "manhattan_mean <- mean(manhattan_price)\n",
    "manhattan_mean\n",
    "\n",
    "queens_mean <- mean(queens_price)\n",
    "queens_mean\n",
    "\n",
    "```\n",
    "\n",
    "```{r error=TRUE}\n",
    "#Calculate Median\n",
    "brooklyn_median <- median(brooklyn_price)\n",
    "brooklyn_median\n",
    "\n",
    "manhattan_median <- median(manhattan_price)\n",
    "manhattan_median\n",
    "\n",
    "queens_median <- median(queens_price)\n",
    "queens_median\n",
    "\n",
    "```\n",
    "\n",
    "```{r error=TRUE}\n",
    "#Calculate Mode\n",
    "brooklyn_mode <- Mode(brooklyn_price)\n",
    "brooklyn_mode\n",
    "\n",
    "manhattan_mode <- Mode(manhattan_price)\n",
    "manhattan_mode\n",
    "\n",
    "queens_mode <- Mode(queens_price)\n",
    "queens_mode"
   ]
  }
 ],
 "metadata": {
  "kernelspec": {
   "display_name": "Python 3 (ipykernel)",
   "language": "python",
   "name": "python3"
  },
  "language_info": {
   "codemirror_mode": {
    "name": "ipython",
    "version": 3
   },
   "file_extension": ".py",
   "mimetype": "text/x-python",
   "name": "python",
   "nbconvert_exporter": "python",
   "pygments_lexer": "ipython3",
   "version": "3.9.12"
  }
 },
 "nbformat": 4,
 "nbformat_minor": 5
}
